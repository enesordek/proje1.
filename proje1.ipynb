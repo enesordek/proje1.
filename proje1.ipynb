{
  "nbformat": 4,
  "nbformat_minor": 0,
  "metadata": {
    "colab": {
      "provenance": [],
      "authorship_tag": "ABX9TyPaLOdUVValGrvRONtrGwj9",
      "include_colab_link": true
    },
    "kernelspec": {
      "name": "python3",
      "display_name": "Python 3"
    },
    "language_info": {
      "name": "python"
    }
  },
  "cells": [
    {
      "cell_type": "markdown",
      "metadata": {
        "id": "view-in-github",
        "colab_type": "text"
      },
      "source": [
        "<a href=\"https://colab.research.google.com/github/enesordek/proje1./blob/main/proje1.ipynb\" target=\"_parent\"><img src=\"https://colab.research.google.com/assets/colab-badge.svg\" alt=\"Open In Colab\"/></a>"
      ]
    },
    {
      "cell_type": "code",
      "execution_count": null,
      "metadata": {
        "id": "evJn9RHY_WAi",
        "colab": {
          "base_uri": "https://localhost:8080/"
        },
        "outputId": "cbcf922a-fbee-4836-b98f-da28b569d43e"
      },
      "outputs": [
        {
          "output_type": "stream",
          "name": "stdout",
          "text": [
            "Eğlence\n"
          ]
        }
      ],
      "source": [
        "def konu_tespit(metin):\n",
        "    # Her konu başlığı için karakteristik kelimeler ve bunların ağırlıkları\n",
        "    kelimeler = {\n",
        "        'Siyaset': [(\"hükümet\", 3), (\"seçim\", 3), (\"meclis\", 2), (\"parti\", 2), (\"politik\", 2), (\"lider\", 2), (\"ülke\", 1), (\"bakan\", 2)],\n",
        "        'Teknoloji': [(\"bilgisayar\", 3), (\"yapay zeka\", 3), (\"internet\", 2), (\"uygulama\", 2), (\"teknoloji\", 3), (\"yazılım\", 2), (\"apple\", 1), (\"samsung\", 1)],\n",
        "        'Spor': [(\"futbol\", 3), (\"basketbol\", 3), (\"takım\", 2), (\"maç\", 2), (\"şampiyona\", 2), (\"antrenman\", 2)],\n",
        "        'Sağlık': [(\"hastane\", 3), (\"doktor\", 3), (\"tedavi\", 2), (\"aşı\", 2), (\"hasta\", 3), (\"hastalık\", 2), (\"hemşire\", 1)],\n",
        "        'Eğlence': [(\"film\", 3), (\"müzik\", 3), (\"oyun\", 2), (\"sinema\", 2), (\"sanatçı\", 2), (\"konser\", 2), (\"tiyatro\", 1)]\n",
        "    }\n",
        "\n",
        "    # Skorları başlat\n",
        "    skorlar = {'Siyaset': 0, 'Teknoloji': 0, 'Spor': 0, 'Sağlık': 0, 'Eğlence': 0}\n",
        "\n",
        "    # Metni küçük harfe çevir\n",
        "    metin = metin.lower()\n",
        "\n",
        "    # Kelimeler üzerinden puanlama\n",
        "    for konu, kelime_listesi in kelimeler.items():\n",
        "        for kelime, agirlik in kelime_listesi:\n",
        "            skorlar[konu] += metin.count(kelime) * agirlik\n",
        "\n",
        "    # En yüksek skoru alan konuyu seç\n",
        "    en_yuksek_konu = max(skorlar, key=skorlar.get)\n",
        "\n",
        "    # Eğer tüm skorlar sıfırsa \"diğer konular\" döndür\n",
        "    if skorlar[en_yuksek_konu] == 0:\n",
        "        return \"diğer konular\"\n",
        "\n",
        "    return en_yuksek_konu\n",
        "\n",
        "# Örnek kullanım\n",
        "metin = \"abim bizi tiyatroya götürmüyor.\"\n",
        "print(konu_tespit(metin))  # Spor olarak tespit edilmelidir\n"
      ]
    }
  ]
}